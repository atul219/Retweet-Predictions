{
  "nbformat": 4,
  "nbformat_minor": 0,
  "metadata": {
    "colab": {
      "name": "Retweet.ipynb",
      "version": "0.3.2",
      "provenance": [],
      "include_colab_link": true
    },
    "kernelspec": {
      "name": "python3",
      "display_name": "Python 3"
    },
    "accelerator": "GPU"
  },
  "cells": [
    {
      "cell_type": "markdown",
      "metadata": {
        "id": "view-in-github",
        "colab_type": "text"
      },
      "source": [
        "<a href=\"https://colab.research.google.com/github/atul219/Retweet-Predictions/blob/master/Retweet.ipynb\" target=\"_parent\"><img src=\"https://colab.research.google.com/assets/colab-badge.svg\" alt=\"Open In Colab\"/></a>"
      ]
    },
    {
      "metadata": {
        "id": "0IvkI-jyxY5h",
        "colab_type": "code",
        "outputId": "da70aa75-461f-4a3e-f20d-acda016b0c14",
        "colab": {
          "resources": {
            "http://localhost:8080/nbextensions/google.colab/files.js": {
              "data": "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",
              "ok": true,
              "headers": [
                [
                  "content-type",
                  "application/javascript"
                ]
              ],
              "status": 200,
              "status_text": "OK"
            }
          },
          "base_uri": "https://localhost:8080/",
          "height": 75
        }
      },
      "cell_type": "code",
      "source": [
        "from google.colab import files\n",
        "uploaded = files.upload()"
      ],
      "execution_count": 2,
      "outputs": [
        {
          "output_type": "display_data",
          "data": {
            "text/html": [
              "\n",
              "     <input type=\"file\" id=\"files-ae498ccc-eb8e-4882-b45f-9f864b2f93c7\" name=\"files[]\" multiple disabled />\n",
              "     <output id=\"result-ae498ccc-eb8e-4882-b45f-9f864b2f93c7\">\n",
              "      Upload widget is only available when the cell has been executed in the\n",
              "      current browser session. Please rerun this cell to enable.\n",
              "      </output>\n",
              "      <script src=\"/nbextensions/google.colab/files.js\"></script> "
            ],
            "text/plain": [
              "<IPython.core.display.HTML object>"
            ]
          },
          "metadata": {
            "tags": []
          }
        },
        {
          "output_type": "stream",
          "text": [
            "Saving data.xlsx to data.xlsx\n"
          ],
          "name": "stdout"
        }
      ]
    },
    {
      "metadata": {
        "id": "kkwsFTXaxdzk",
        "colab_type": "code",
        "colab": {
          "base_uri": "https://localhost:8080/",
          "height": 35
        },
        "outputId": "d161fa37-ee1e-4b77-d273-620b3bdd872d"
      },
      "cell_type": "code",
      "source": [
        "import pandas as pd\n",
        "import numpy as np\n",
        "import matplotlib.pyplot as plt\n",
        "import keras\n",
        "from keras.models import Sequential\n",
        "from keras.layers import Dense , Dropout\n",
        "from keras.callbacks import ModelCheckpoint , EarlyStopping"
      ],
      "execution_count": 3,
      "outputs": [
        {
          "output_type": "stream",
          "text": [
            "Using TensorFlow backend.\n"
          ],
          "name": "stderr"
        }
      ]
    },
    {
      "metadata": {
        "id": "0-EUO2aKxxz7",
        "colab_type": "text"
      },
      "cell_type": "markdown",
      "source": [
        "**Load Data**"
      ]
    },
    {
      "metadata": {
        "id": "rGbDWMJYxvxO",
        "colab_type": "code",
        "colab": {}
      },
      "cell_type": "code",
      "source": [
        "data = pd.read_excel('data.xlsx' , index_col = 0)"
      ],
      "execution_count": 0,
      "outputs": []
    },
    {
      "metadata": {
        "id": "JwTHHd5Gx1Tu",
        "colab_type": "text"
      },
      "cell_type": "markdown",
      "source": [
        "**Functions to perform basic tasks **"
      ]
    },
    {
      "metadata": {
        "id": "2HmqsHFmx7IY",
        "colab_type": "code",
        "colab": {}
      },
      "cell_type": "code",
      "source": [
        "# check nan \n",
        "def check_nan(data):\n",
        "    return data.isna().sum()\n",
        "  \n",
        "\n",
        "def drop_nan(data):\n",
        "    data = data.dropna(axis = 1)\n",
        "    return data\n",
        "  \n",
        "\n",
        "def col(data):\n",
        "    return list(data.columns.values)\n",
        "  \n",
        "\n",
        "def normalization(X):\n",
        "    X = (X - np.min(X , axis = 0)) / (np.max(X , axis = 0) - np.min(X , axis = 0))\n",
        "    return X\n",
        "  \n",
        "  \n",
        "def random_shuffle(X , y):\n",
        "    idx = np.random.permutation(len(X))\n",
        "    X,y = X[idx] , y[idx]\n",
        "    return X,y\n",
        "  \n",
        "\n",
        "def train_test_split(X, y, test_size):\n",
        "    i = int(len(X) * test_size)\n",
        "    X_test = X[0:i , :]\n",
        "    y_test = y[0:i , :]\n",
        "    X_train = X[i: , :]\n",
        "    y_train = y[i: , :]\n",
        "\n",
        "    return X_train , X_test , y_train , y_test"
      ],
      "execution_count": 0,
      "outputs": []
    },
    {
      "metadata": {
        "id": "Yo2J_HhDyRub",
        "colab_type": "text"
      },
      "cell_type": "markdown",
      "source": [
        "**Extract columns**"
      ]
    },
    {
      "metadata": {
        "id": "j_8HAgDFyJEj",
        "colab_type": "code",
        "colab": {}
      },
      "cell_type": "code",
      "source": [
        "clean_data = data[['TweetRetweetFlag','TweetRetweetCount','TweetFavoritesCount' , 'UserFollowersCount', 'UserFriendsCount', 'UserListedCount' , 'MacroIterationNumber' ]]"
      ],
      "execution_count": 0,
      "outputs": []
    },
    {
      "metadata": {
        "id": "52-CTlH2ye7J",
        "colab_type": "code",
        "colab": {}
      },
      "cell_type": "code",
      "source": [
        "# replace True by 1 and False by 0\n",
        "clean_data = clean_data.replace([False , True], [0,1])"
      ],
      "execution_count": 0,
      "outputs": []
    },
    {
      "metadata": {
        "id": "FRqs9tLcykwX",
        "colab_type": "text"
      },
      "cell_type": "markdown",
      "source": [
        "**Extract Feature Vector and Labels**"
      ]
    },
    {
      "metadata": {
        "id": "YMPtT1p1yo1X",
        "colab_type": "code",
        "colab": {}
      },
      "cell_type": "code",
      "source": [
        "X = np.array(clean_data[['TweetRetweetFlag','TweetFavoritesCount' , 'UserFollowersCount', 'UserFriendsCount', 'UserListedCount' , 'MacroIterationNumber']])\n",
        "y = np.array(clean_data[['TweetRetweetCount']])"
      ],
      "execution_count": 0,
      "outputs": []
    },
    {
      "metadata": {
        "id": "y80Tue28zBBL",
        "colab_type": "text"
      },
      "cell_type": "markdown",
      "source": [
        "**Split the Data into training and testing**"
      ]
    },
    {
      "metadata": {
        "id": "OxbVZOVNzFE2",
        "colab_type": "code",
        "colab": {}
      },
      "cell_type": "code",
      "source": [
        "X_train , X_test , y_train , y_test = train_test_split(X , y , test_size = 0.2)"
      ],
      "execution_count": 0,
      "outputs": []
    },
    {
      "metadata": {
        "id": "Ak0kvsu0zKAW",
        "colab_type": "code",
        "outputId": "57052e0a-654a-4abc-a438-8fd55e1d6497",
        "colab": {
          "base_uri": "https://localhost:8080/",
          "height": 328
        }
      },
      "cell_type": "code",
      "source": [
        "model = Sequential()\n",
        "model.add(Dense(output_dim = 32  , activation = 'relu' , input_dim = 6))\n",
        "model.add(Dense(output_dim = 64 , activation = 'relu'))\n",
        "model.add(Dense(output_dim = 64 , activation = 'relu'))\n",
        "model.add(Dropout(0.2))\n",
        "model.add(Dense(output_dim = 128 , activation = 'relu'))\n",
        "model.add(Dense(output_dim = 1))"
      ],
      "execution_count": 10,
      "outputs": [
        {
          "output_type": "stream",
          "text": [
            "WARNING:tensorflow:From /usr/local/lib/python3.6/dist-packages/tensorflow/python/framework/op_def_library.py:263: colocate_with (from tensorflow.python.framework.ops) is deprecated and will be removed in a future version.\n",
            "Instructions for updating:\n",
            "Colocations handled automatically by placer.\n",
            "WARNING:tensorflow:From /usr/local/lib/python3.6/dist-packages/keras/backend/tensorflow_backend.py:3445: calling dropout (from tensorflow.python.ops.nn_ops) with keep_prob is deprecated and will be removed in a future version.\n",
            "Instructions for updating:\n",
            "Please use `rate` instead of `keep_prob`. Rate should be set to `rate = 1 - keep_prob`.\n"
          ],
          "name": "stdout"
        },
        {
          "output_type": "stream",
          "text": [
            "/usr/local/lib/python3.6/dist-packages/ipykernel_launcher.py:2: UserWarning: Update your `Dense` call to the Keras 2 API: `Dense(activation=\"relu\", input_dim=6, units=32)`\n",
            "  \n",
            "/usr/local/lib/python3.6/dist-packages/ipykernel_launcher.py:3: UserWarning: Update your `Dense` call to the Keras 2 API: `Dense(activation=\"relu\", units=64)`\n",
            "  This is separate from the ipykernel package so we can avoid doing imports until\n",
            "/usr/local/lib/python3.6/dist-packages/ipykernel_launcher.py:4: UserWarning: Update your `Dense` call to the Keras 2 API: `Dense(activation=\"relu\", units=64)`\n",
            "  after removing the cwd from sys.path.\n",
            "/usr/local/lib/python3.6/dist-packages/ipykernel_launcher.py:6: UserWarning: Update your `Dense` call to the Keras 2 API: `Dense(activation=\"relu\", units=128)`\n",
            "  \n",
            "/usr/local/lib/python3.6/dist-packages/ipykernel_launcher.py:7: UserWarning: Update your `Dense` call to the Keras 2 API: `Dense(units=1)`\n",
            "  import sys\n"
          ],
          "name": "stderr"
        }
      ]
    },
    {
      "metadata": {
        "id": "-mtjHyM4zVls",
        "colab_type": "code",
        "outputId": "df80d055-7b32-43b9-cd0f-046d90687f61",
        "colab": {
          "base_uri": "https://localhost:8080/",
          "height": 362
        }
      },
      "cell_type": "code",
      "source": [
        "model.summary()"
      ],
      "execution_count": 11,
      "outputs": [
        {
          "output_type": "stream",
          "text": [
            "_________________________________________________________________\n",
            "Layer (type)                 Output Shape              Param #   \n",
            "=================================================================\n",
            "dense_1 (Dense)              (None, 32)                224       \n",
            "_________________________________________________________________\n",
            "dense_2 (Dense)              (None, 64)                2112      \n",
            "_________________________________________________________________\n",
            "dense_3 (Dense)              (None, 64)                4160      \n",
            "_________________________________________________________________\n",
            "dropout_1 (Dropout)          (None, 64)                0         \n",
            "_________________________________________________________________\n",
            "dense_4 (Dense)              (None, 128)               8320      \n",
            "_________________________________________________________________\n",
            "dense_5 (Dense)              (None, 1)                 129       \n",
            "=================================================================\n",
            "Total params: 14,945\n",
            "Trainable params: 14,945\n",
            "Non-trainable params: 0\n",
            "_________________________________________________________________\n"
          ],
          "name": "stdout"
        }
      ]
    },
    {
      "metadata": {
        "id": "tnHf-HaizYZZ",
        "colab_type": "code",
        "colab": {}
      },
      "cell_type": "code",
      "source": [
        "model.compile(loss = 'mean_squared_error', optimizer = 'adam')"
      ],
      "execution_count": 0,
      "outputs": []
    },
    {
      "metadata": {
        "id": "D17jbCGgBoHg",
        "colab_type": "code",
        "outputId": "aa05a512-2599-4791-cbf8-45c6f56a30b7",
        "colab": {
          "base_uri": "https://localhost:8080/",
          "height": 35
        }
      },
      "cell_type": "code",
      "source": [
        "\n",
        "#Make new directory \n",
        "#!mkdir dir_name #to make new dir. in current directory \n",
        "!mkdir Weights\n",
        "!mkdir /content/Weights"
      ],
      "execution_count": 13,
      "outputs": [
        {
          "output_type": "stream",
          "text": [
            "mkdir: cannot create directory ‘/content/Weights’: File exists\n"
          ],
          "name": "stdout"
        }
      ]
    },
    {
      "metadata": {
        "id": "34M-X9SyAkZG",
        "colab_type": "code",
        "colab": {}
      },
      "cell_type": "code",
      "source": [
        "# define checkpoints\n",
        "file_path = '/content/Weights/weights-improvement-{epoch:02d}-{loss:.4f}.hdf5'\n",
        "checkpoint = ModelCheckpoint(file_path , monitor = 'val_loss' , verbose = 1 , save_best_only = True , mode = 'min')\n"
      ],
      "execution_count": 0,
      "outputs": []
    },
    {
      "metadata": {
        "id": "RXA0zs6GX6qV",
        "colab_type": "code",
        "colab": {}
      },
      "cell_type": "code",
      "source": [
        "es = EarlyStopping(monitor='val_loss', mode='min', verbose=1, patience=30)"
      ],
      "execution_count": 0,
      "outputs": []
    },
    {
      "metadata": {
        "id": "TERUU26ai7GU",
        "colab_type": "code",
        "colab": {}
      },
      "cell_type": "code",
      "source": [
        ""
      ],
      "execution_count": 0,
      "outputs": []
    },
    {
      "metadata": {
        "id": "hp7ah57tZMHy",
        "colab_type": "code",
        "colab": {}
      },
      "cell_type": "code",
      "source": [
        "callback_list = [checkpoint , es]"
      ],
      "execution_count": 0,
      "outputs": []
    },
    {
      "metadata": {
        "id": "2D8Emb53zex1",
        "colab_type": "text"
      },
      "cell_type": "markdown",
      "source": [
        "**Train the model**"
      ]
    },
    {
      "metadata": {
        "id": "uTUFGS9WzcEz",
        "colab_type": "code",
        "outputId": "c56eda07-84ce-4fa2-f13e-89fc16b2a840",
        "colab": {
          "base_uri": "https://localhost:8080/",
          "height": 2599
        }
      },
      "cell_type": "code",
      "source": [
        "history = model.fit(X_train , y_train , validation_split = 0.33 ,  epochs = 100 , shuffle = True , callbacks = callback_list)"
      ],
      "execution_count": 17,
      "outputs": [
        {
          "output_type": "stream",
          "text": [
            "WARNING:tensorflow:From /usr/local/lib/python3.6/dist-packages/tensorflow/python/ops/math_ops.py:3066: to_int32 (from tensorflow.python.ops.math_ops) is deprecated and will be removed in a future version.\n",
            "Instructions for updating:\n",
            "Use tf.cast instead.\n",
            "Train on 22709 samples, validate on 11186 samples\n",
            "Epoch 1/100\n",
            "22709/22709 [==============================] - 7s 293us/step - loss: 3559353.9338 - val_loss: 2539015.6310\n",
            "\n",
            "Epoch 00001: val_loss improved from inf to 2539015.63101, saving model to /content/Weights/weights-improvement-01-3559353.9338.hdf5\n",
            "Epoch 2/100\n",
            "22709/22709 [==============================] - 4s 177us/step - loss: 7010237.7386 - val_loss: 2497203.7058\n",
            "\n",
            "Epoch 00002: val_loss improved from 2539015.63101 to 2497203.70581, saving model to /content/Weights/weights-improvement-02-7010237.7386.hdf5\n",
            "Epoch 3/100\n",
            "22709/22709 [==============================] - 4s 177us/step - loss: 1231237.7467 - val_loss: 643634.9889\n",
            "\n",
            "Epoch 00003: val_loss improved from 2497203.70581 to 643634.98887, saving model to /content/Weights/weights-improvement-03-1231237.7467.hdf5\n",
            "Epoch 4/100\n",
            "22709/22709 [==============================] - 4s 177us/step - loss: 858195.8153 - val_loss: 403126.1944\n",
            "\n",
            "Epoch 00004: val_loss improved from 643634.98887 to 403126.19435, saving model to /content/Weights/weights-improvement-04-858195.8153.hdf5\n",
            "Epoch 5/100\n",
            "22709/22709 [==============================] - 4s 176us/step - loss: 289662.1007 - val_loss: 579484.2980\n",
            "\n",
            "Epoch 00005: val_loss did not improve from 403126.19435\n",
            "Epoch 6/100\n",
            "22709/22709 [==============================] - 4s 175us/step - loss: 225044.9389 - val_loss: 649114.5495\n",
            "\n",
            "Epoch 00006: val_loss did not improve from 403126.19435\n",
            "Epoch 7/100\n",
            "22709/22709 [==============================] - 4s 176us/step - loss: 211252.8535 - val_loss: 495043.3586\n",
            "\n",
            "Epoch 00007: val_loss did not improve from 403126.19435\n",
            "Epoch 8/100\n",
            "22709/22709 [==============================] - 4s 175us/step - loss: 198675.3922 - val_loss: 664840.3269\n",
            "\n",
            "Epoch 00008: val_loss did not improve from 403126.19435\n",
            "Epoch 9/100\n",
            "22709/22709 [==============================] - 4s 175us/step - loss: 190027.4128 - val_loss: 668664.2643\n",
            "\n",
            "Epoch 00009: val_loss did not improve from 403126.19435\n",
            "Epoch 10/100\n",
            "22709/22709 [==============================] - 4s 174us/step - loss: 186821.7527 - val_loss: 540278.6838\n",
            "\n",
            "Epoch 00010: val_loss did not improve from 403126.19435\n",
            "Epoch 11/100\n",
            "22709/22709 [==============================] - 4s 176us/step - loss: 208406.3662 - val_loss: 504939.6317\n",
            "\n",
            "Epoch 00011: val_loss did not improve from 403126.19435\n",
            "Epoch 12/100\n",
            "22709/22709 [==============================] - 4s 175us/step - loss: 177074.8932 - val_loss: 744203.5531\n",
            "\n",
            "Epoch 00012: val_loss did not improve from 403126.19435\n",
            "Epoch 13/100\n",
            "22709/22709 [==============================] - 4s 174us/step - loss: 173635.6860 - val_loss: 474892.8312\n",
            "\n",
            "Epoch 00013: val_loss did not improve from 403126.19435\n",
            "Epoch 14/100\n",
            "22709/22709 [==============================] - 4s 176us/step - loss: 202301.5532 - val_loss: 538190.8496\n",
            "\n",
            "Epoch 00014: val_loss did not improve from 403126.19435\n",
            "Epoch 15/100\n",
            "22709/22709 [==============================] - 4s 175us/step - loss: 169288.6607 - val_loss: 523524.3251\n",
            "\n",
            "Epoch 00015: val_loss did not improve from 403126.19435\n",
            "Epoch 16/100\n",
            "22709/22709 [==============================] - 4s 175us/step - loss: 166002.2800 - val_loss: 469813.6401\n",
            "\n",
            "Epoch 00016: val_loss did not improve from 403126.19435\n",
            "Epoch 17/100\n",
            "22709/22709 [==============================] - 4s 175us/step - loss: 163304.0978 - val_loss: 659815.9308\n",
            "\n",
            "Epoch 00017: val_loss did not improve from 403126.19435\n",
            "Epoch 18/100\n",
            "22709/22709 [==============================] - 4s 175us/step - loss: 157412.1492 - val_loss: 688909.1185\n",
            "\n",
            "Epoch 00018: val_loss did not improve from 403126.19435\n",
            "Epoch 19/100\n",
            "22709/22709 [==============================] - 4s 174us/step - loss: 161959.3065 - val_loss: 570078.6607\n",
            "\n",
            "Epoch 00019: val_loss did not improve from 403126.19435\n",
            "Epoch 20/100\n",
            "22709/22709 [==============================] - 4s 176us/step - loss: 154919.9968 - val_loss: 482375.6838\n",
            "\n",
            "Epoch 00020: val_loss did not improve from 403126.19435\n",
            "Epoch 21/100\n",
            "22709/22709 [==============================] - 4s 174us/step - loss: 156667.8310 - val_loss: 699919.0036\n",
            "\n",
            "Epoch 00021: val_loss did not improve from 403126.19435\n",
            "Epoch 22/100\n",
            "22709/22709 [==============================] - 4s 173us/step - loss: 154681.3865 - val_loss: 610881.9861\n",
            "\n",
            "Epoch 00022: val_loss did not improve from 403126.19435\n",
            "Epoch 23/100\n",
            "22709/22709 [==============================] - 4s 175us/step - loss: 144221.9592 - val_loss: 540680.9028\n",
            "\n",
            "Epoch 00023: val_loss did not improve from 403126.19435\n",
            "Epoch 24/100\n",
            "22709/22709 [==============================] - 4s 176us/step - loss: 156690.5260 - val_loss: 657194.9646\n",
            "\n",
            "Epoch 00024: val_loss did not improve from 403126.19435\n",
            "Epoch 25/100\n",
            "22709/22709 [==============================] - 4s 174us/step - loss: 138541.7968 - val_loss: 829557.2709\n",
            "\n",
            "Epoch 00025: val_loss did not improve from 403126.19435\n",
            "Epoch 26/100\n",
            "22709/22709 [==============================] - 4s 175us/step - loss: 137878.8179 - val_loss: 1006491.2290\n",
            "\n",
            "Epoch 00026: val_loss did not improve from 403126.19435\n",
            "Epoch 27/100\n",
            "22709/22709 [==============================] - 4s 176us/step - loss: 133459.7925 - val_loss: 722655.0962\n",
            "\n",
            "Epoch 00027: val_loss did not improve from 403126.19435\n",
            "Epoch 28/100\n",
            "22709/22709 [==============================] - 4s 174us/step - loss: 128031.2797 - val_loss: 814204.5719\n",
            "\n",
            "Epoch 00028: val_loss did not improve from 403126.19435\n",
            "Epoch 29/100\n",
            "22709/22709 [==============================] - 4s 175us/step - loss: 123524.7407 - val_loss: 779549.6783\n",
            "\n",
            "Epoch 00029: val_loss did not improve from 403126.19435\n",
            "Epoch 30/100\n",
            "22709/22709 [==============================] - 4s 174us/step - loss: 123389.2405 - val_loss: 627284.1122\n",
            "\n",
            "Epoch 00030: val_loss did not improve from 403126.19435\n",
            "Epoch 31/100\n",
            "22709/22709 [==============================] - 4s 175us/step - loss: 114835.9944 - val_loss: 2330552.5956\n",
            "\n",
            "Epoch 00031: val_loss did not improve from 403126.19435\n",
            "Epoch 32/100\n",
            "22709/22709 [==============================] - 4s 175us/step - loss: 189060.7772 - val_loss: 1423284.6764\n",
            "\n",
            "Epoch 00032: val_loss did not improve from 403126.19435\n",
            "Epoch 33/100\n",
            "22709/22709 [==============================] - 4s 173us/step - loss: 116799.7536 - val_loss: 585079.6642\n",
            "\n",
            "Epoch 00033: val_loss did not improve from 403126.19435\n",
            "Epoch 34/100\n",
            "22709/22709 [==============================] - 4s 175us/step - loss: 114341.7986 - val_loss: 1022548.1674\n",
            "\n",
            "Epoch 00034: val_loss did not improve from 403126.19435\n",
            "Epoch 00034: early stopping\n"
          ],
          "name": "stdout"
        }
      ]
    },
    {
      "metadata": {
        "id": "xyQMC_9Hzioy",
        "colab_type": "code",
        "colab": {}
      },
      "cell_type": "code",
      "source": [
        "y_pred = model.predict(X_test)"
      ],
      "execution_count": 0,
      "outputs": []
    },
    {
      "metadata": {
        "id": "iWv7d01J_SPz",
        "colab_type": "code",
        "outputId": "3dba5db1-f5de-49c4-a049-2b1906d24695",
        "colab": {
          "base_uri": "https://localhost:8080/",
          "height": 144
        }
      },
      "cell_type": "code",
      "source": [
        "y_pred"
      ],
      "execution_count": 19,
      "outputs": [
        {
          "output_type": "execute_result",
          "data": {
            "text/plain": [
              "array([[   5.0358286],\n",
              "       [   8.949352 ],\n",
              "       [  49.90923  ],\n",
              "       ...,\n",
              "       [2415.5117   ],\n",
              "       [1237.0247   ],\n",
              "       [ 746.0865   ]], dtype=float32)"
            ]
          },
          "metadata": {
            "tags": []
          },
          "execution_count": 19
        }
      ]
    },
    {
      "metadata": {
        "id": "OElpXA19azvg",
        "colab_type": "code",
        "outputId": "d5afc457-64a3-4366-af28-a2ceb86a8ad2",
        "colab": {
          "base_uri": "https://localhost:8080/",
          "height": 144
        }
      },
      "cell_type": "code",
      "source": [
        "y_test"
      ],
      "execution_count": 20,
      "outputs": [
        {
          "output_type": "execute_result",
          "data": {
            "text/plain": [
              "array([[   1],\n",
              "       [   1],\n",
              "       [   0],\n",
              "       ...,\n",
              "       [2973],\n",
              "       [ 111],\n",
              "       [ 111]])"
            ]
          },
          "metadata": {
            "tags": []
          },
          "execution_count": 20
        }
      ]
    },
    {
      "metadata": {
        "id": "KNbNvo9W_T8y",
        "colab_type": "code",
        "colab": {}
      },
      "cell_type": "code",
      "source": [
        "error = np.sqrt(np.mean(np.square(y_test - y_pred)))"
      ],
      "execution_count": 0,
      "outputs": []
    },
    {
      "metadata": {
        "id": "OoGyP6l__W1O",
        "colab_type": "code",
        "outputId": "714b223f-97eb-424e-f518-f7d1780cbc96",
        "colab": {
          "base_uri": "https://localhost:8080/",
          "height": 35
        }
      },
      "cell_type": "code",
      "source": [
        "error"
      ],
      "execution_count": 22,
      "outputs": [
        {
          "output_type": "execute_result",
          "data": {
            "text/plain": [
              "413.0556723550181"
            ]
          },
          "metadata": {
            "tags": []
          },
          "execution_count": 22
        }
      ]
    },
    {
      "metadata": {
        "id": "fQE0h-sJ_w10",
        "colab_type": "code",
        "outputId": "bfb57ebf-8bf8-4099-8db4-dd6da8148475",
        "colab": {
          "base_uri": "https://localhost:8080/",
          "height": 394
        }
      },
      "cell_type": "code",
      "source": [
        "plt.plot(history.history['loss'])\n",
        "plt.plot(history.history['val_loss'])\n",
        "plt.title('model loss')\n",
        "plt.legend(['train_loss' , 'val_loss'])\n",
        "plt.ylabel('loss')\n",
        "plt.xlabel('epoch')"
      ],
      "execution_count": 23,
      "outputs": [
        {
          "output_type": "execute_result",
          "data": {
            "text/plain": [
              "Text(0.5, 0, 'epoch')"
            ]
          },
          "metadata": {
            "tags": []
          },
          "execution_count": 23
        },
        {
          "output_type": "display_data",
          "data": {
            "image/png": "[encoded data removed]",
            "text/plain": [
              "<Figure size 576x396 with 1 Axes>"
            ]
          },
          "metadata": {
            "tags": []
          }
        }
      ]
    },
    {
      "metadata": {
        "id": "F28yNpCGAXEa",
        "colab_type": "code",
        "colab": {}
      },
      "cell_type": "code",
      "source": [
        "weights = '/content/Weights/weights-improvement-04-858195.8153.hdf5'\n",
        "model.load_weights(weights)\n",
        "model.save('retweet_prediction_400.hdf5')"
      ],
      "execution_count": 0,
      "outputs": []
    },
    {
      "metadata": {
        "id": "7qkDYgGekWaK",
        "colab_type": "code",
        "colab": {}
      },
      "cell_type": "code",
      "source": [
        ""
      ],
      "execution_count": 0,
      "outputs": []
    }
  ]
}